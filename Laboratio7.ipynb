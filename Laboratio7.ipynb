{
  "nbformat": 4,
  "nbformat_minor": 0,
  "metadata": {
    "colab": {
      "provenance": [],
      "authorship_tag": "ABX9TyNy/h2EWMBsrOFhbUpCZVA8",
      "include_colab_link": true
    },
    "kernelspec": {
      "name": "python3",
      "display_name": "Python 3"
    },
    "language_info": {
      "name": "python"
    }
  },
  "cells": [
    {
      "cell_type": "markdown",
      "metadata": {
        "id": "view-in-github",
        "colab_type": "text"
      },
      "source": [
        "<a href=\"https://colab.research.google.com/github/DianaIbar/Seccion7/blob/main/Laboratio7.ipynb\" target=\"_parent\"><img src=\"https://colab.research.google.com/assets/colab-badge.svg\" alt=\"Open In Colab\"/></a>"
      ]
    },
    {
      "cell_type": "code",
      "execution_count": 14,
      "metadata": {
        "colab": {
          "base_uri": "https://localhost:8080/"
        },
        "id": "mBIamZtoU1yu",
        "outputId": "1dcbedbd-dff6-4f66-9fc9-0a7301477809"
      },
      "outputs": [
        {
          "output_type": "stream",
          "name": "stdout",
          "text": [
            "    nombre     Profesion    Paises\n",
            "0    Diana      Contador  Colombia\n",
            "1  Daniela        Medico   Ecuador\n",
            "2    Angel       Abogado     Chile\n",
            "3   Daniel       Docente   Jamaica\n",
            "4   Walter    Astronauta  Honduras\n",
            "5  Darling    Periodista    Suecia\n",
            "6   Julian  Bacteriologo    España\n",
            "7   Manuel    Psiquiatra  Portugal\n"
          ]
        }
      ],
      "source": [
        "#-\tCrear un DataFrame con los nombres, profesión y países de 8 personas, y luego imprimir el DataFrame\n",
        "import pandas as pd\n",
        "\n",
        "datos = {'nombre': ['Diana', 'Daniela', 'Angel', 'Daniel', 'Walter', 'Darling', 'Julian', 'Manuel'],\n",
        "         'Profesion': ['Contador', 'Medico', 'Abogado', 'Docente', 'Astronauta', 'Periodista', 'Bacteriologo', 'Psiquiatra'],\n",
        "         'Paises': ['Colombia', 'Ecuador', 'Chile', 'Jamaica', 'Honduras', 'Suecia', 'España','Portugal']}\n",
        "\n",
        "\n",
        "df = pd.DataFrame(datos)\n",
        "print(df)\n",
        "\n",
        ""
      ]
    },
    {
      "cell_type": "code",
      "source": [
        "#-\tCargar un archivo CSV (puedes usar un archivo de ejemplo en tu entorno) y mostrar las primeras 5 filas.\n",
        "\n",
        "import pandas as pd\n",
        "df = pd.read_csv('data.csv')\n",
        "print(df.head(5))"
      ],
      "metadata": {
        "colab": {
          "base_uri": "https://localhost:8080/"
        },
        "id": "ls_6Fq12VGNg",
        "outputId": "17a7e4fb-721c-4242-a0ba-895e9830d38f"
      },
      "execution_count": 18,
      "outputs": [
        {
          "output_type": "stream",
          "name": "stdout",
          "text": [
            "   Duracion  Pulso  Maxpulso  Calorias\n",
            "0        60    110       130     409.1\n",
            "1        60    117       145     479.0\n",
            "2        60    103       135     340.0\n",
            "3        45    109       175     282.4\n",
            "4        45    117       148     406.0\n"
          ]
        }
      ]
    },
    {
      "cell_type": "code",
      "source": [
        "#-Generar un DataFrame con 100 filas y 8 columnas de valores aleatorios, y luego mostrar un resumen estadístico de los datos.\n",
        "import numpy as np\n",
        "import pandas as pd\n",
        "#generar DataFrame con valores aleatorios\n",
        "df = pd.DataFrame(np.random.rand(100, 8))\n",
        "#mostrar resumen estadistico\n",
        "print(df.describe())"
      ],
      "metadata": {
        "colab": {
          "base_uri": "https://localhost:8080/"
        },
        "id": "sdOOlI1oVKZY",
        "outputId": "9d95a917-d5fa-4f8e-a495-2e2572ce6c51"
      },
      "execution_count": 23,
      "outputs": [
        {
          "output_type": "stream",
          "name": "stdout",
          "text": [
            "                0           1           2           3           4           5  \\\n",
            "count  100.000000  100.000000  100.000000  100.000000  100.000000  100.000000   \n",
            "mean     0.480777    0.486547    0.480088    0.483910    0.478296    0.475627   \n",
            "std      0.292495    0.287897    0.291020    0.272318    0.301685    0.294903   \n",
            "min      0.001030    0.001112    0.003319    0.015995    0.001837    0.014298   \n",
            "25%      0.232769    0.208928    0.225567    0.270342    0.194382    0.189207   \n",
            "50%      0.448324    0.498751    0.451479    0.445581    0.465830    0.482572   \n",
            "75%      0.763612    0.733115    0.724283    0.713757    0.700575    0.738008   \n",
            "max      0.994566    0.970160    0.991805    0.944272    0.987980    0.996656   \n",
            "\n",
            "                6           7  \n",
            "count  100.000000  100.000000  \n",
            "mean     0.473495    0.471616  \n",
            "std      0.279944    0.288093  \n",
            "min      0.005433    0.007417  \n",
            "25%      0.207537    0.246186  \n",
            "50%      0.446501    0.428440  \n",
            "75%      0.661029    0.715766  \n",
            "max      0.992910    0.980351  \n"
          ]
        }
      ]
    },
    {
      "cell_type": "code",
      "source": [
        "#-\tCrear un array de números del 1 al 10 y mostrar la suma, la media, y el valor máximo.\n",
        "import numpy as np\n",
        "arr = np.arange(1, 11)\n",
        "print(\"Array:\",arr)\n",
        "print(\"Suma:\", arr.sum())\n",
        "print(\"Media:\",arr.mean())\n",
        "print(\"Máximo:\",arr.max())\n"
      ],
      "metadata": {
        "colab": {
          "base_uri": "https://localhost:8080/"
        },
        "id": "nqlQb6ULVJin",
        "outputId": "652bd69e-9304-4afe-a708-dd4738a50d0b"
      },
      "execution_count": 32,
      "outputs": [
        {
          "output_type": "stream",
          "name": "stdout",
          "text": [
            "Array: [ 1  2  3  4  5  6  7  8  9 10]\n",
            "Suma: 55\n",
            "Media: 5.5\n",
            "Máximo: 10\n"
          ]
        }
      ]
    },
    {
      "cell_type": "code",
      "source": [
        "#Crear un array de 3x4 lleno de ceros y luego cambiar su forma a 2x6\n",
        "import numpy as np\n",
        "arr = np.zeros((3,4))\n",
        "print(arr)\n",
        "arr = arr.reshape(2,6)\n",
        "print(arr)"
      ],
      "metadata": {
        "colab": {
          "base_uri": "https://localhost:8080/"
        },
        "id": "en4vQk9tVJVn",
        "outputId": "26a6e030-0b3e-4ae7-b2e7-43fddda458bb"
      },
      "execution_count": 33,
      "outputs": [
        {
          "output_type": "stream",
          "name": "stdout",
          "text": [
            "[[0. 0. 0. 0.]\n",
            " [0. 0. 0. 0.]\n",
            " [0. 0. 0. 0.]]\n",
            "[[0. 0. 0. 0. 0. 0.]\n",
            " [0. 0. 0. 0. 0. 0.]]\n"
          ]
        }
      ]
    },
    {
      "cell_type": "code",
      "source": [
        "#Generar una matriz aleatoria de 3x3 y calcular su transpuesta.\n",
        "import numpy as np\n",
        "arr = np.random.rand(3,3)\n",
        "print(arr)\n",
        "print(arr.T)"
      ],
      "metadata": {
        "colab": {
          "base_uri": "https://localhost:8080/"
        },
        "id": "K51RR2W1VJJO",
        "outputId": "fd11ee8c-f7a3-4fbd-f0c8-95e06e477663"
      },
      "execution_count": 34,
      "outputs": [
        {
          "output_type": "stream",
          "name": "stdout",
          "text": [
            "[[0.13406108 0.09733047 0.57740899]\n",
            " [0.17200345 0.37379175 0.17903723]\n",
            " [0.30309836 0.91796567 0.06944132]]\n",
            "[[0.13406108 0.17200345 0.30309836]\n",
            " [0.09733047 0.37379175 0.91796567]\n",
            " [0.57740899 0.17903723 0.06944132]]\n"
          ]
        }
      ]
    },
    {
      "cell_type": "code",
      "source": [
        "#Concatenar dos arrays de NumPy, cada uno con 5 valores, y luego imprimir el array concatenado\n",
        "import numpy as np\n",
        "arr1 = np.array([1,2,3,4,5])\n",
        "arr2 = np.array([6,7,8,9,10])\n",
        "arr3 = np.concatenate((arr1,arr2))\n",
        "\n",
        "import numpy as np\n",
        "a = np.array([1,2,3,4,5])\n",
        "b = np.array([6,7,8,9,10])\n",
        "arr_concatenado = np.concatenate((a,b))\n",
        "print(\"Array concatenado:\",arr_concatenado)"
      ],
      "metadata": {
        "colab": {
          "base_uri": "https://localhost:8080/"
        },
        "id": "7sMAL5KNsUpx",
        "outputId": "d267ace6-f551-47ea-99bf-b37a3ec623b8"
      },
      "execution_count": 38,
      "outputs": [
        {
          "output_type": "stream",
          "name": "stdout",
          "text": [
            "Array concatenado: [ 1  2  3  4  5  6  7  8  9 10]\n"
          ]
        }
      ]
    },
    {
      "cell_type": "code",
      "source": [],
      "metadata": {
        "id": "m128d5koVI2_"
      },
      "execution_count": null,
      "outputs": []
    }
  ]
}